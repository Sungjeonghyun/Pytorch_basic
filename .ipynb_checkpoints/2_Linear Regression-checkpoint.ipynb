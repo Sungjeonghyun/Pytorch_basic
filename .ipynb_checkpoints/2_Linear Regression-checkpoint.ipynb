{
 "cells": [
  {
   "cell_type": "code",
   "execution_count": 1,
   "id": "07a96547",
   "metadata": {},
   "outputs": [],
   "source": [
    "import torch\n",
    "import torch.nn as nn\n",
    "import torch.nn.functional as F\n",
    "import torch.optim as optim"
   ]
  },
  {
   "cell_type": "code",
   "execution_count": 2,
   "id": "f3e5d651",
   "metadata": {},
   "outputs": [
    {
     "data": {
      "text/plain": [
       "<torch._C.Generator at 0x202908875f0>"
      ]
     },
     "execution_count": 2,
     "metadata": {},
     "output_type": "execute_result"
    }
   ],
   "source": [
    "torch.manual_seed(1)"
   ]
  },
  {
   "cell_type": "markdown",
   "id": "990e3bc2",
   "metadata": {},
   "source": [
    "### Linear Regression"
   ]
  },
  {
   "cell_type": "code",
   "execution_count": 3,
   "id": "37906183",
   "metadata": {},
   "outputs": [],
   "source": [
    "x_train = torch.FloatTensor([[1], [2], [3]])\n",
    "y_train = torch.FloatTensor([[2], [4], [6]])"
   ]
  },
  {
   "cell_type": "code",
   "execution_count": 4,
   "id": "5038379f",
   "metadata": {},
   "outputs": [
    {
     "name": "stdout",
     "output_type": "stream",
     "text": [
      "tensor([[1.],\n",
      "        [2.],\n",
      "        [3.]])\n",
      "torch.Size([3, 1])\n"
     ]
    }
   ],
   "source": [
    "print(x_train)\n",
    "print(x_train.shape)"
   ]
  },
  {
   "cell_type": "code",
   "execution_count": 5,
   "id": "de588137",
   "metadata": {},
   "outputs": [
    {
     "name": "stdout",
     "output_type": "stream",
     "text": [
      "tensor([[2.],\n",
      "        [4.],\n",
      "        [6.]])\n",
      "torch.Size([3, 1])\n"
     ]
    }
   ],
   "source": [
    "print(y_train)\n",
    "print(y_train.shape)"
   ]
  },
  {
   "cell_type": "markdown",
   "id": "577c6a88",
   "metadata": {},
   "source": [
    "#### 가중치"
   ]
  },
  {
   "cell_type": "code",
   "execution_count": 6,
   "id": "3ac8cacd",
   "metadata": {},
   "outputs": [
    {
     "name": "stdout",
     "output_type": "stream",
     "text": [
      "tensor([0.], requires_grad=True)\n"
     ]
    }
   ],
   "source": [
    "W = torch.zeros(1, requires_grad=True) # 값이 변동되도록 하려면 True\n",
    "print(W)"
   ]
  },
  {
   "cell_type": "markdown",
   "id": "1fad9eaa",
   "metadata": {},
   "source": [
    "#### 편향"
   ]
  },
  {
   "cell_type": "code",
   "execution_count": 7,
   "id": "322eb9d3",
   "metadata": {},
   "outputs": [
    {
     "name": "stdout",
     "output_type": "stream",
     "text": [
      "tensor([0.], requires_grad=True)\n"
     ]
    }
   ],
   "source": [
    "b = torch.zeros(1, requires_grad=True)\n",
    "print(b)"
   ]
  },
  {
   "cell_type": "markdown",
   "id": "e42908d3",
   "metadata": {},
   "source": [
    "#### 가설"
   ]
  },
  {
   "cell_type": "code",
   "execution_count": 8,
   "id": "fac50fd2",
   "metadata": {},
   "outputs": [
    {
     "name": "stdout",
     "output_type": "stream",
     "text": [
      "tensor([[0.],\n",
      "        [0.],\n",
      "        [0.]], grad_fn=<AddBackward0>)\n"
     ]
    }
   ],
   "source": [
    "hypothesis = x_train * W + b\n",
    "print(hypothesis)"
   ]
  },
  {
   "cell_type": "markdown",
   "id": "0a5030ec",
   "metadata": {},
   "source": [
    "#### 비용 함수"
   ]
  },
  {
   "cell_type": "code",
   "execution_count": 9,
   "id": "78e122d5",
   "metadata": {},
   "outputs": [
    {
     "name": "stdout",
     "output_type": "stream",
     "text": [
      "tensor(18.6667, grad_fn=<MeanBackward0>)\n"
     ]
    }
   ],
   "source": [
    "cost = torch.mean((hypothesis - y_train) ** 2)\n",
    "print(cost)"
   ]
  },
  {
   "cell_type": "markdown",
   "id": "92bad900",
   "metadata": {},
   "source": [
    "#### 경사 하강법"
   ]
  },
  {
   "cell_type": "code",
   "execution_count": 10,
   "id": "450cd207",
   "metadata": {},
   "outputs": [],
   "source": [
    "optimizer = optim.SGD([W, b], lr=0.01)"
   ]
  },
  {
   "cell_type": "code",
   "execution_count": 11,
   "id": "fb4e1bb5",
   "metadata": {},
   "outputs": [],
   "source": [
    "optimizer.zero_grad() # gradient를 0으로 초기화\n",
    "cost.backward() # 비용 함수를 미분하여 gradient 계산\n",
    "optimizer.step() # W, b 업데이트"
   ]
  },
  {
   "cell_type": "markdown",
   "id": "e024de27",
   "metadata": {},
   "source": [
    "####  정리"
   ]
  },
  {
   "cell_type": "code",
   "execution_count": 12,
   "id": "acb8ddbe",
   "metadata": {},
   "outputs": [
    {
     "name": "stdout",
     "output_type": "stream",
     "text": [
      "Epoch    0/1999 W: 0.187, b: 0.080 Cost: 18.666666\n",
      "Epoch  100/1999 W: 1.746, b: 0.578 Cost: 0.048171\n",
      "Epoch  200/1999 W: 1.800, b: 0.454 Cost: 0.029767\n",
      "Epoch  300/1999 W: 1.843, b: 0.357 Cost: 0.018394\n",
      "Epoch  400/1999 W: 1.876, b: 0.281 Cost: 0.011366\n",
      "Epoch  500/1999 W: 1.903, b: 0.221 Cost: 0.007024\n",
      "Epoch  600/1999 W: 1.924, b: 0.174 Cost: 0.004340\n",
      "Epoch  700/1999 W: 1.940, b: 0.136 Cost: 0.002682\n",
      "Epoch  800/1999 W: 1.953, b: 0.107 Cost: 0.001657\n",
      "Epoch  900/1999 W: 1.963, b: 0.084 Cost: 0.001024\n",
      "Epoch 1000/1999 W: 1.971, b: 0.066 Cost: 0.000633\n",
      "Epoch 1100/1999 W: 1.977, b: 0.052 Cost: 0.000391\n",
      "Epoch 1200/1999 W: 1.982, b: 0.041 Cost: 0.000242\n",
      "Epoch 1300/1999 W: 1.986, b: 0.032 Cost: 0.000149\n",
      "Epoch 1400/1999 W: 1.989, b: 0.025 Cost: 0.000092\n",
      "Epoch 1500/1999 W: 1.991, b: 0.020 Cost: 0.000057\n",
      "Epoch 1600/1999 W: 1.993, b: 0.016 Cost: 0.000035\n",
      "Epoch 1700/1999 W: 1.995, b: 0.012 Cost: 0.000022\n",
      "Epoch 1800/1999 W: 1.996, b: 0.010 Cost: 0.000013\n",
      "Epoch 1900/1999 W: 1.997, b: 0.008 Cost: 0.000008\n"
     ]
    }
   ],
   "source": [
    "# 데이터\n",
    "x_train = torch.FloatTensor([[1], [2], [3]])\n",
    "y_train = torch.FloatTensor([[2], [4], [6]])\n",
    "\n",
    "# 모델 초기화\n",
    "W = torch.zeros(1, requires_grad=True)\n",
    "b = torch.zeros(1, requires_grad=True)\n",
    "\n",
    "# optimizer 설정\n",
    "optimizer = optim.SGD([W, b], lr=0.01)\n",
    "\n",
    "nb_epochs = 1999\n",
    "for epoch in range(nb_epochs + 1):\n",
    "    \n",
    "    # H(x)\n",
    "    hypothesis = x_train * W + b\n",
    "    \n",
    "    # cost\n",
    "    cost = torch.mean((hypothesis - y_train) ** 2)\n",
    "    \n",
    "    # optim\n",
    "    optimizer.zero_grad()\n",
    "    cost.backward()\n",
    "    optimizer.step()\n",
    "    \n",
    "    if epoch % 100 == 0:\n",
    "        print('Epoch {:4d}/{} W: {:.3f}, b: {:.3f} Cost: {:.6f}'.format(epoch, nb_epochs, W.item(), b.item(), cost.item()))"
   ]
  },
  {
   "cell_type": "markdown",
   "id": "953f2d0c",
   "metadata": {},
   "source": [
    "#### optimizer.zero_grad()"
   ]
  },
  {
   "cell_type": "code",
   "execution_count": 13,
   "id": "56ef385a",
   "metadata": {},
   "outputs": [
    {
     "name": "stdout",
     "output_type": "stream",
     "text": [
      "수식을 w로 미분한 값 : 2.0\n",
      "수식을 w로 미분한 값 : 4.0\n",
      "수식을 w로 미분한 값 : 6.0\n",
      "수식을 w로 미분한 값 : 8.0\n",
      "수식을 w로 미분한 값 : 10.0\n",
      "수식을 w로 미분한 값 : 12.0\n",
      "수식을 w로 미분한 값 : 14.0\n",
      "수식을 w로 미분한 값 : 16.0\n",
      "수식을 w로 미분한 값 : 18.0\n",
      "수식을 w로 미분한 값 : 20.0\n",
      "수식을 w로 미분한 값 : 22.0\n",
      "수식을 w로 미분한 값 : 24.0\n",
      "수식을 w로 미분한 값 : 26.0\n",
      "수식을 w로 미분한 값 : 28.0\n",
      "수식을 w로 미분한 값 : 30.0\n",
      "수식을 w로 미분한 값 : 32.0\n",
      "수식을 w로 미분한 값 : 34.0\n",
      "수식을 w로 미분한 값 : 36.0\n",
      "수식을 w로 미분한 값 : 38.0\n",
      "수식을 w로 미분한 값 : 40.0\n",
      "수식을 w로 미분한 값 : 42.0\n"
     ]
    }
   ],
   "source": [
    "# zero_grad()를 통해 초기화해주지 않으면 계속해서 값이 누적된다.\n",
    "w = torch.tensor(2.0, requires_grad=True)\n",
    "\n",
    "nb_epochs = 20\n",
    "for epoch in range(nb_epochs + 1):\n",
    "    z = 2*w\n",
    "    \n",
    "    z.backward()\n",
    "    print('수식을 w로 미분한 값 : {}'.format(w.grad))"
   ]
  },
  {
   "cell_type": "markdown",
   "id": "d900173b",
   "metadata": {},
   "source": [
    "#### torch.manual_seed()"
   ]
  },
  {
   "cell_type": "code",
   "execution_count": 14,
   "id": "d437490f",
   "metadata": {},
   "outputs": [
    {
     "name": "stdout",
     "output_type": "stream",
     "text": [
      "랜덤 시드가 3일 때\n",
      "tensor([0.0043])\n",
      "tensor([0.1056])\n"
     ]
    }
   ],
   "source": [
    "torch.manual_seed(3)\n",
    "print('랜덤 시드가 3일 때')\n",
    "for i in range(1, 3):\n",
    "    print(torch.rand(1))"
   ]
  },
  {
   "cell_type": "code",
   "execution_count": 15,
   "id": "e98b8be6",
   "metadata": {},
   "outputs": [
    {
     "name": "stdout",
     "output_type": "stream",
     "text": [
      "랜덤 시드가 1일 때\n",
      "tensor([0.7576])\n",
      "tensor([0.2793])\n"
     ]
    }
   ],
   "source": [
    "torch.manual_seed(1)\n",
    "print('랜덤 시드가 1일 때')\n",
    "for i in range(1, 3):\n",
    "    print(torch.rand(1))"
   ]
  },
  {
   "cell_type": "code",
   "execution_count": 16,
   "id": "af3aa9a7",
   "metadata": {},
   "outputs": [
    {
     "name": "stdout",
     "output_type": "stream",
     "text": [
      "랜덤 시드가 다시 3일 때\n",
      "tensor([0.0043])\n",
      "tensor([0.1056])\n"
     ]
    }
   ],
   "source": [
    "torch.manual_seed(3)\n",
    "print('랜덤 시드가 다시 3일 때')\n",
    "for i in range(1, 3):\n",
    "    print(torch.rand(1))"
   ]
  },
  {
   "cell_type": "markdown",
   "id": "a80ab0fa",
   "metadata": {},
   "source": [
    "### Autograd"
   ]
  },
  {
   "cell_type": "code",
   "execution_count": 17,
   "id": "f5f6763d",
   "metadata": {},
   "outputs": [],
   "source": [
    "w = torch.tensor(2.0, requires_grad=True)"
   ]
  },
  {
   "cell_type": "code",
   "execution_count": 18,
   "id": "89a857b5",
   "metadata": {},
   "outputs": [],
   "source": [
    "z = 2 * w**2 + 5"
   ]
  },
  {
   "cell_type": "code",
   "execution_count": 19,
   "id": "9b7d430c",
   "metadata": {},
   "outputs": [],
   "source": [
    "z.backward()"
   ]
  },
  {
   "cell_type": "code",
   "execution_count": 20,
   "id": "2785e947",
   "metadata": {},
   "outputs": [
    {
     "name": "stdout",
     "output_type": "stream",
     "text": [
      "수식을 w로 미분한 값 : 8.0\n"
     ]
    }
   ],
   "source": [
    "# z를 w로 미분한 값이 저장됨\n",
    "print('수식을 w로 미분한 값 : {}'.format(w.grad))"
   ]
  },
  {
   "cell_type": "markdown",
   "id": "5503d676",
   "metadata": {},
   "source": [
    "### Multivariable Linear regression"
   ]
  },
  {
   "cell_type": "code",
   "execution_count": 21,
   "id": "c41c01a8",
   "metadata": {},
   "outputs": [
    {
     "data": {
      "text/plain": [
       "<torch._C.Generator at 0x202908875f0>"
      ]
     },
     "execution_count": 21,
     "metadata": {},
     "output_type": "execute_result"
    }
   ],
   "source": [
    "import torch\n",
    "import torch.nn as nn\n",
    "import torch.nn.functional as F\n",
    "import torch.optim as optim\n",
    "\n",
    "torch.manual_seed(1)"
   ]
  },
  {
   "cell_type": "code",
   "execution_count": 22,
   "id": "32a9c891",
   "metadata": {},
   "outputs": [],
   "source": [
    "x1_train = torch.FloatTensor([[73], [93], [89], [96], [73]])\n",
    "x2_train = torch.FloatTensor([[80], [88], [91], [98], [66]])\n",
    "x3_train = torch.FloatTensor([[75], [93], [90], [100], [70]])\n",
    "y_train = torch.FloatTensor([[152], [185], [180], [196], [142]])"
   ]
  },
  {
   "cell_type": "code",
   "execution_count": 23,
   "id": "e3dc9a5b",
   "metadata": {},
   "outputs": [],
   "source": [
    "w1 = torch.zeros(1, requires_grad=True) # = torch.Tensor(0., requires_grad=True) = \n",
    "w2 = torch.zeros(1, requires_grad=True)\n",
    "w3 = torch.zeros(1, requires_grad=True)\n",
    "b = torch.zeros(1, requires_grad=True)"
   ]
  },
  {
   "cell_type": "code",
   "execution_count": 24,
   "id": "90f1292d",
   "metadata": {},
   "outputs": [
    {
     "name": "stdout",
     "output_type": "stream",
     "text": [
      "Epoch    0/1000 w1: 0.294 w2: 0.294 w3: 0.297 b: 0.003 Cost: 29661.800781\n",
      "Epoch  100/1000 w1: 0.674 w2: 0.661 w3: 0.676 b: 0.008 Cost: 1.563634\n",
      "Epoch  200/1000 w1: 0.679 w2: 0.655 w3: 0.677 b: 0.008 Cost: 1.497607\n",
      "Epoch  300/1000 w1: 0.684 w2: 0.649 w3: 0.677 b: 0.008 Cost: 1.435026\n",
      "Epoch  400/1000 w1: 0.689 w2: 0.643 w3: 0.678 b: 0.008 Cost: 1.375730\n",
      "Epoch  500/1000 w1: 0.694 w2: 0.638 w3: 0.678 b: 0.009 Cost: 1.319511\n",
      "Epoch  600/1000 w1: 0.699 w2: 0.633 w3: 0.679 b: 0.009 Cost: 1.266222\n",
      "Epoch  700/1000 w1: 0.704 w2: 0.627 w3: 0.679 b: 0.009 Cost: 1.215696\n",
      "Epoch  800/1000 w1: 0.709 w2: 0.622 w3: 0.679 b: 0.009 Cost: 1.167818\n",
      "Epoch  900/1000 w1: 0.713 w2: 0.617 w3: 0.680 b: 0.009 Cost: 1.122429\n",
      "Epoch 1000/1000 w1: 0.718 w2: 0.613 w3: 0.680 b: 0.009 Cost: 1.079378\n"
     ]
    }
   ],
   "source": [
    "optimizer = optim.SGD([w1, w2, w3, b], lr=1e-5)\n",
    "\n",
    "nb_epochs = 1000\n",
    "for epoch in range(nb_epochs + 1):\n",
    "    \n",
    "    hypothesis = x1_train * w1 + x2_train * w2 + x3_train * w3 + b\n",
    "    \n",
    "    cost = torch.mean((hypothesis - y_train) ** 2)\n",
    "    \n",
    "    optimizer.zero_grad()\n",
    "    cost.backward()\n",
    "    optimizer.step()\n",
    "    \n",
    "    if epoch % 100 == 0:\n",
    "        print('Epoch {:4d}/{} w1: {:.3f} w2: {:.3f} w3: {:.3f} b: {:.3f} Cost: {:.6f}'.format(\n",
    "            epoch, nb_epochs, w1.item(), w2.item(), w3.item(), b.item(), cost.item()\n",
    "        ))"
   ]
  },
  {
   "cell_type": "markdown",
   "id": "dbdd5801",
   "metadata": {},
   "source": [
    "#### 행렬 연산(내적, dot)을 고려하여 구현"
   ]
  },
  {
   "cell_type": "code",
   "execution_count": 25,
   "id": "a93e7c9b",
   "metadata": {},
   "outputs": [],
   "source": [
    "x_train  =  torch.FloatTensor([[73,  80,  75], # x1_train, x2_train, x3_train\n",
    "                               [93,  88,  93], \n",
    "                               [89,  91,  80], \n",
    "                               [96,  98,  100],   \n",
    "                               [73,  66,  70]])  \n",
    "y_train  =  torch.FloatTensor([[152],  [185],  [180],  [196],  [142]])"
   ]
  },
  {
   "cell_type": "code",
   "execution_count": 26,
   "id": "e5a3f17b",
   "metadata": {},
   "outputs": [
    {
     "name": "stdout",
     "output_type": "stream",
     "text": [
      "torch.Size([5, 3])\n",
      "torch.Size([5, 1])\n"
     ]
    }
   ],
   "source": [
    "print(x_train.shape)\n",
    "print(y_train.shape)"
   ]
  },
  {
   "cell_type": "code",
   "execution_count": 27,
   "id": "f1c074d2",
   "metadata": {},
   "outputs": [],
   "source": [
    "W = torch.zeros((3, 1), requires_grad=True)\n",
    "b = torch.zeros(1, requires_grad=True)"
   ]
  },
  {
   "cell_type": "code",
   "execution_count": 28,
   "id": "882778b6",
   "metadata": {},
   "outputs": [],
   "source": [
    "hypothesis = x_train.matmul(W) + b"
   ]
  },
  {
   "cell_type": "code",
   "execution_count": 29,
   "id": "8a5426b4",
   "metadata": {},
   "outputs": [
    {
     "name": "stdout",
     "output_type": "stream",
     "text": [
      "Epoch    0/20 hypothesis: tensor([0., 0., 0., 0., 0.]) Cost: 29661.800781\n",
      "Epoch    1/20 hypothesis: tensor([66.7178, 80.1701, 76.1025, 86.0194, 61.1565]) Cost: 9537.694336\n",
      "Epoch    2/20 hypothesis: tensor([104.5421, 125.6208, 119.2478, 134.7861,  95.8280]) Cost: 3069.590820\n",
      "Epoch    3/20 hypothesis: tensor([125.9858, 151.3882, 143.7087, 162.4333, 115.4844]) Cost: 990.670288\n",
      "Epoch    4/20 hypothesis: tensor([138.1429, 165.9963, 157.5768, 178.1071, 126.6283]) Cost: 322.481873\n",
      "Epoch    5/20 hypothesis: tensor([145.0350, 174.2780, 165.4395, 186.9928, 132.9461]) Cost: 107.717064\n",
      "Epoch    6/20 hypothesis: tensor([148.9423, 178.9730, 169.8976, 192.0301, 136.5279]) Cost: 38.687496\n",
      "Epoch    7/20 hypothesis: tensor([151.1574, 181.6346, 172.4254, 194.8856, 138.5585]) Cost: 16.499043\n",
      "Epoch    8/20 hypothesis: tensor([152.4131, 183.1435, 173.8590, 196.5043, 139.7097]) Cost: 9.365656\n",
      "Epoch    9/20 hypothesis: tensor([153.1250, 183.9988, 174.6723, 197.4217, 140.3625]) Cost: 7.071114\n",
      "Epoch   10/20 hypothesis: tensor([153.5285, 184.4835, 175.1338, 197.9415, 140.7325]) Cost: 6.331847\n",
      "Epoch   11/20 hypothesis: tensor([153.7572, 184.7582, 175.3958, 198.2360, 140.9424]) Cost: 6.092532\n",
      "Epoch   12/20 hypothesis: tensor([153.8868, 184.9138, 175.5449, 198.4026, 141.0613]) Cost: 6.013817\n",
      "Epoch   13/20 hypothesis: tensor([153.9602, 185.0019, 175.6299, 198.4969, 141.1288]) Cost: 5.986785\n",
      "Epoch   14/20 hypothesis: tensor([154.0017, 185.0517, 175.6785, 198.5500, 141.1671]) Cost: 5.976325\n",
      "Epoch   15/20 hypothesis: tensor([154.0252, 185.0798, 175.7065, 198.5800, 141.1888]) Cost: 5.971208\n",
      "Epoch   16/20 hypothesis: tensor([154.0385, 185.0956, 175.7229, 198.5966, 141.2012]) Cost: 5.967835\n",
      "Epoch   17/20 hypothesis: tensor([154.0459, 185.1045, 175.7326, 198.6059, 141.2082]) Cost: 5.964969\n",
      "Epoch   18/20 hypothesis: tensor([154.0501, 185.1094, 175.7386, 198.6108, 141.2122]) Cost: 5.962291\n",
      "Epoch   19/20 hypothesis: tensor([154.0524, 185.1120, 175.7424, 198.6134, 141.2145]) Cost: 5.959664\n",
      "Epoch   20/20 hypothesis: tensor([154.0536, 185.1134, 175.7451, 198.6145, 141.2158]) Cost: 5.957089\n"
     ]
    }
   ],
   "source": [
    "optimizer = optim.SGD([W, b], lr=1e-5)\n",
    "\n",
    "nb_epochs = 20\n",
    "for epoch in range(nb_epochs + 1):\n",
    "\n",
    "    # 편향 b는 브로드 캐스팅되어 각 샘플에 더해집니다.\n",
    "    hypothesis = x_train.matmul(W) + b\n",
    "\n",
    "    cost = torch.mean((hypothesis - y_train) ** 2)\n",
    "\n",
    "    optimizer.zero_grad()\n",
    "    cost.backward()\n",
    "    optimizer.step()\n",
    "\n",
    "    print('Epoch {:4d}/{} hypothesis: {} Cost: {:.6f}'.format(\n",
    "        epoch, nb_epochs, hypothesis.squeeze().detach(), cost.item()\n",
    "    ))"
   ]
  },
  {
   "cell_type": "markdown",
   "id": "91a25250",
   "metadata": {},
   "source": [
    "### nn.Module로 선형회귀 구현"
   ]
  },
  {
   "cell_type": "code",
   "execution_count": 30,
   "id": "3d0da586",
   "metadata": {},
   "outputs": [
    {
     "data": {
      "text/plain": [
       "<torch._C.Generator at 0x202908875f0>"
      ]
     },
     "execution_count": 30,
     "metadata": {},
     "output_type": "execute_result"
    }
   ],
   "source": [
    "import torch\n",
    "import torch.nn as nn\n",
    "import torch.nn.functional as F\n",
    "\n",
    "torch.manual_seed(1)"
   ]
  },
  {
   "cell_type": "code",
   "execution_count": 31,
   "id": "65b898c7",
   "metadata": {},
   "outputs": [],
   "source": [
    "x_train = torch.FloatTensor([[1], [2], [3]])\n",
    "y_train = torch.FloatTensor([[2], [4], [6]])"
   ]
  },
  {
   "cell_type": "code",
   "execution_count": 32,
   "id": "f57cae3f",
   "metadata": {},
   "outputs": [],
   "source": [
    "# 모델 선언 및 초기화. (input_dim, output_dim)\n",
    "model = nn.Linear(1, 1)"
   ]
  },
  {
   "cell_type": "code",
   "execution_count": 33,
   "id": "b8843ca7",
   "metadata": {},
   "outputs": [
    {
     "name": "stdout",
     "output_type": "stream",
     "text": [
      "[Parameter containing:\n",
      "tensor([[0.5153]], requires_grad=True), Parameter containing:\n",
      "tensor([-0.4414], requires_grad=True)]\n"
     ]
    }
   ],
   "source": [
    "print(list(model.parameters())) # 모델이 W, b를 임의로 초기화했다."
   ]
  },
  {
   "cell_type": "code",
   "execution_count": 34,
   "id": "3a39d238",
   "metadata": {},
   "outputs": [],
   "source": [
    "optimizer = torch.optim.SGD(model.parameters(), lr=0.01)"
   ]
  },
  {
   "cell_type": "code",
   "execution_count": 35,
   "id": "28a0258d",
   "metadata": {},
   "outputs": [
    {
     "name": "stdout",
     "output_type": "stream",
     "text": [
      "Epoch    0/2000 Cost: 13.103541\n",
      "Epoch  100/2000 Cost: 0.002791\n",
      "Epoch  200/2000 Cost: 0.001724\n",
      "Epoch  300/2000 Cost: 0.001066\n",
      "Epoch  400/2000 Cost: 0.000658\n",
      "Epoch  500/2000 Cost: 0.000407\n",
      "Epoch  600/2000 Cost: 0.000251\n",
      "Epoch  700/2000 Cost: 0.000155\n",
      "Epoch  800/2000 Cost: 0.000096\n",
      "Epoch  900/2000 Cost: 0.000059\n",
      "Epoch 1000/2000 Cost: 0.000037\n",
      "Epoch 1100/2000 Cost: 0.000023\n",
      "Epoch 1200/2000 Cost: 0.000014\n",
      "Epoch 1300/2000 Cost: 0.000009\n",
      "Epoch 1400/2000 Cost: 0.000005\n",
      "Epoch 1500/2000 Cost: 0.000003\n",
      "Epoch 1600/2000 Cost: 0.000002\n",
      "Epoch 1700/2000 Cost: 0.000001\n",
      "Epoch 1800/2000 Cost: 0.000001\n",
      "Epoch 1900/2000 Cost: 0.000000\n",
      "Epoch 2000/2000 Cost: 0.000000\n"
     ]
    }
   ],
   "source": [
    "nb_epochs = 2000\n",
    "for epoch in range(nb_epochs+1):\n",
    "\n",
    "    prediction = model(x_train)\n",
    "\n",
    "    cost = F.mse_loss(prediction, y_train) # <== 파이토치에서 제공하는 평균 제곱 오차 함수\n",
    "\n",
    "    optimizer.zero_grad()\n",
    "    cost.backward()\n",
    "    optimizer.step()\n",
    "\n",
    "    if epoch % 100 == 0:\n",
    "      print('Epoch {:4d}/{} Cost: {:.6f}'.format(epoch, nb_epochs, cost.item()))"
   ]
  },
  {
   "cell_type": "code",
   "execution_count": 36,
   "id": "67a15cdc",
   "metadata": {},
   "outputs": [
    {
     "name": "stdout",
     "output_type": "stream",
     "text": [
      "훈련 후 입력이 4일 때의 예측값 : tensor([[7.9989]], grad_fn=<AddmmBackward0>)\n"
     ]
    }
   ],
   "source": [
    "new_var = torch.FloatTensor([[4.0]])\n",
    "pred_y = model(new_var) # forward 연산이라고 한다.\n",
    "print(\"훈련 후 입력이 4일 때의 예측값 :\", pred_y) # 정답은 8이며, 8에 가까운 값을 출력한다."
   ]
  },
  {
   "cell_type": "code",
   "execution_count": 37,
   "id": "9937b658",
   "metadata": {},
   "outputs": [
    {
     "name": "stdout",
     "output_type": "stream",
     "text": [
      "[Parameter containing:\n",
      "tensor([[1.9994]], requires_grad=True), Parameter containing:\n",
      "tensor([0.0014], requires_grad=True)]\n"
     ]
    }
   ],
   "source": [
    "print(list(model.parameters())) # model의 최종 파라미터"
   ]
  },
  {
   "cell_type": "markdown",
   "id": "0c418db3",
   "metadata": {},
   "source": [
    "#### 다중 선형 회귀 구현"
   ]
  },
  {
   "cell_type": "code",
   "execution_count": 38,
   "id": "9251b0a1",
   "metadata": {},
   "outputs": [],
   "source": [
    "x_train = torch.FloatTensor([[73, 80, 75],\n",
    "                             [93, 88, 93],\n",
    "                             [89, 91, 90],\n",
    "                             [96, 98, 100],\n",
    "                             [73, 66, 70]])\n",
    "y_train = torch.FloatTensor([[152], [185], [180], [196], [142]])"
   ]
  },
  {
   "cell_type": "code",
   "execution_count": 39,
   "id": "0674ba01",
   "metadata": {},
   "outputs": [],
   "source": [
    "model = nn.Linear(3,1) # 입력 차원 = 3, 출력 차원 = 1"
   ]
  },
  {
   "cell_type": "code",
   "execution_count": 40,
   "id": "b9aae691",
   "metadata": {},
   "outputs": [
    {
     "name": "stdout",
     "output_type": "stream",
     "text": [
      "[Parameter containing:\n",
      "tensor([[-0.1119,  0.2710, -0.5435]], requires_grad=True), Parameter containing:\n",
      "tensor([0.3462], requires_grad=True)]\n"
     ]
    }
   ],
   "source": [
    "print(list(model.parameters())) # 임의로 초기화된 W, b"
   ]
  },
  {
   "cell_type": "code",
   "execution_count": 41,
   "id": "355d0773",
   "metadata": {},
   "outputs": [],
   "source": [
    "optimizer = torch.optim.SGD(model.parameters(), lr=1e-5) "
   ]
  },
  {
   "cell_type": "code",
   "execution_count": 42,
   "id": "aad3beaa",
   "metadata": {},
   "outputs": [
    {
     "name": "stdout",
     "output_type": "stream",
     "text": [
      "Epoch    0/2000 Cost: 42134.707031\n",
      "Epoch  100/2000 Cost: 5.960053\n",
      "Epoch  200/2000 Cost: 5.654707\n",
      "Epoch  300/2000 Cost: 5.365413\n",
      "Epoch  400/2000 Cost: 5.091429\n",
      "Epoch  500/2000 Cost: 4.831834\n",
      "Epoch  600/2000 Cost: 4.585997\n",
      "Epoch  700/2000 Cost: 4.353075\n",
      "Epoch  800/2000 Cost: 4.132411\n",
      "Epoch  900/2000 Cost: 3.923455\n",
      "Epoch 1000/2000 Cost: 3.725502\n",
      "Epoch 1100/2000 Cost: 3.537972\n",
      "Epoch 1200/2000 Cost: 3.360326\n",
      "Epoch 1300/2000 Cost: 3.192056\n",
      "Epoch 1400/2000 Cost: 3.032674\n",
      "Epoch 1500/2000 Cost: 2.881700\n",
      "Epoch 1600/2000 Cost: 2.738672\n",
      "Epoch 1700/2000 Cost: 2.603201\n",
      "Epoch 1800/2000 Cost: 2.474846\n",
      "Epoch 1900/2000 Cost: 2.353286\n",
      "Epoch 2000/2000 Cost: 2.238110\n"
     ]
    }
   ],
   "source": [
    "nb_epochs = 2000\n",
    "for epoch in range(nb_epochs+1):\n",
    "\n",
    "    prediction = model(x_train)\n",
    "    # model(x_train)은 model.forward(x_train)와 동일함.\n",
    "\n",
    "    cost = F.mse_loss(prediction, y_train)\n",
    "\n",
    "    optimizer.zero_grad()\n",
    "    cost.backward()\n",
    "    optimizer.step()\n",
    "\n",
    "    if epoch % 100 == 0:\n",
    "      print('Epoch {:4d}/{} Cost: {:.6f}'.format(epoch, nb_epochs, cost.item()))"
   ]
  },
  {
   "cell_type": "code",
   "execution_count": 43,
   "id": "498ec271",
   "metadata": {},
   "outputs": [
    {
     "name": "stdout",
     "output_type": "stream",
     "text": [
      "훈련 후 입력이 73, 80, 75일 때의 예측값 : tensor([[153.7184]], grad_fn=<AddmmBackward0>)\n"
     ]
    }
   ],
   "source": [
    "new_var =  torch.FloatTensor([[73, 80, 75]])\n",
    "pred_y = model(new_var)\n",
    "print(\"훈련 후 입력이 73, 80, 75일 때의 예측값 :\", pred_y) # 훈련 때 사용한 값으로, 실제 y는 152"
   ]
  },
  {
   "cell_type": "code",
   "execution_count": 44,
   "id": "dd963c22",
   "metadata": {},
   "outputs": [
    {
     "name": "stdout",
     "output_type": "stream",
     "text": [
      "[Parameter containing:\n",
      "tensor([[0.8541, 0.8475, 0.3096]], requires_grad=True), Parameter containing:\n",
      "tensor([0.3568], requires_grad=True)]\n"
     ]
    }
   ],
   "source": [
    "print(list(model.parameters()))"
   ]
  },
  {
   "cell_type": "markdown",
   "id": "8258f5fa",
   "metadata": {},
   "source": [
    "### Class로 구현"
   ]
  },
  {
   "cell_type": "markdown",
   "id": "0071b43d",
   "metadata": {},
   "source": [
    "#### Linear Regression"
   ]
  },
  {
   "cell_type": "code",
   "execution_count": 45,
   "id": "fba46cb0",
   "metadata": {},
   "outputs": [],
   "source": [
    "# model = nn.Linear(1, 1)\n",
    "class LinearRegressionModel(nn.Module):\n",
    "    def __init__(self): #\n",
    "        super().__init__()\n",
    "        self.linear = nn.Linear(1, 1)\n",
    "\n",
    "    def forward(self, x):\n",
    "        return self.linear(x)"
   ]
  },
  {
   "cell_type": "markdown",
   "id": "3eefc59b",
   "metadata": {},
   "source": [
    "#### 다중 선형 회귀"
   ]
  },
  {
   "cell_type": "code",
   "execution_count": 46,
   "id": "b27cf65e",
   "metadata": {},
   "outputs": [],
   "source": [
    "# model = nn.Linear(3, 1)\n",
    "class MultivariateLinearRegressionModel(nn.Module):\n",
    "    def __init__(self):\n",
    "        super().__init__()\n",
    "        self.linear = nn.Linear(3, 1) # 다중 선형 회귀이므로 input_dim=3, output_dim=1.\n",
    "\n",
    "    def forward(self, x):\n",
    "        return self.linear(x)"
   ]
  },
  {
   "cell_type": "code",
   "execution_count": 47,
   "id": "2dfb7d44",
   "metadata": {},
   "outputs": [],
   "source": [
    "x_train = torch.FloatTensor([[1], [2], [3]])\n",
    "y_train = torch.FloatTensor([[2], [4], [6]])"
   ]
  },
  {
   "cell_type": "code",
   "execution_count": 48,
   "id": "9a063a43",
   "metadata": {},
   "outputs": [],
   "source": [
    "model = LinearRegressionModel()"
   ]
  },
  {
   "cell_type": "code",
   "execution_count": 49,
   "id": "54f920fa",
   "metadata": {},
   "outputs": [],
   "source": [
    "optimizer = torch.optim.SGD(model.parameters(), lr=0.01)"
   ]
  },
  {
   "cell_type": "code",
   "execution_count": 50,
   "id": "0398ee8d",
   "metadata": {},
   "outputs": [
    {
     "name": "stdout",
     "output_type": "stream",
     "text": [
      "Epoch    0/2000 Cost: 18.474602\n",
      "Epoch  100/2000 Cost: 0.136136\n",
      "Epoch  200/2000 Cost: 0.084124\n",
      "Epoch  300/2000 Cost: 0.051984\n",
      "Epoch  400/2000 Cost: 0.032123\n",
      "Epoch  500/2000 Cost: 0.019850\n",
      "Epoch  600/2000 Cost: 0.012266\n",
      "Epoch  700/2000 Cost: 0.007580\n",
      "Epoch  800/2000 Cost: 0.004684\n",
      "Epoch  900/2000 Cost: 0.002894\n",
      "Epoch 1000/2000 Cost: 0.001788\n",
      "Epoch 1100/2000 Cost: 0.001105\n",
      "Epoch 1200/2000 Cost: 0.000683\n",
      "Epoch 1300/2000 Cost: 0.000422\n",
      "Epoch 1400/2000 Cost: 0.000261\n",
      "Epoch 1500/2000 Cost: 0.000161\n",
      "Epoch 1600/2000 Cost: 0.000100\n",
      "Epoch 1700/2000 Cost: 0.000062\n",
      "Epoch 1800/2000 Cost: 0.000038\n",
      "Epoch 1900/2000 Cost: 0.000023\n",
      "Epoch 2000/2000 Cost: 0.000015\n"
     ]
    }
   ],
   "source": [
    "nb_epochs = 2000\n",
    "for epoch in range(nb_epochs+1):\n",
    "\n",
    "    prediction = model(x_train)\n",
    "\n",
    "    cost = F.mse_loss(prediction, y_train)\n",
    "\n",
    "    optimizer.zero_grad()\n",
    "    cost.backward()\n",
    "    optimizer.step()\n",
    "\n",
    "    if epoch % 100 == 0:\n",
    "        print('Epoch {:4d}/{} Cost: {:.6f}'.format(epoch, nb_epochs, cost.item()))"
   ]
  },
  {
   "cell_type": "code",
   "execution_count": 51,
   "id": "cf0a6b3d",
   "metadata": {},
   "outputs": [],
   "source": [
    "x_train = torch.FloatTensor([[73, 80, 75],\n",
    "                             [93, 88, 93],\n",
    "                             [89, 91, 90],\n",
    "                             [96, 98, 100],\n",
    "                             [73, 66, 70]])\n",
    "y_train = torch.FloatTensor([[152], [185], [180], [196], [142]])"
   ]
  },
  {
   "cell_type": "code",
   "execution_count": 52,
   "id": "c676ef30",
   "metadata": {},
   "outputs": [],
   "source": [
    "model = MultivariateLinearRegressionModel()"
   ]
  },
  {
   "cell_type": "code",
   "execution_count": 53,
   "id": "54100fd9",
   "metadata": {},
   "outputs": [],
   "source": [
    "optimizer = torch.optim.SGD(model.parameters(), lr=1e-5) "
   ]
  },
  {
   "cell_type": "code",
   "execution_count": 54,
   "id": "547507ec",
   "metadata": {},
   "outputs": [
    {
     "name": "stdout",
     "output_type": "stream",
     "text": [
      "Epoch    0/2000 Cost: 24821.373047\n",
      "Epoch  100/2000 Cost: 0.849148\n",
      "Epoch  200/2000 Cost: 0.825597\n",
      "Epoch  300/2000 Cost: 0.803225\n",
      "Epoch  400/2000 Cost: 0.781968\n",
      "Epoch  500/2000 Cost: 0.761779\n",
      "Epoch  600/2000 Cost: 0.742587\n",
      "Epoch  700/2000 Cost: 0.724357\n",
      "Epoch  800/2000 Cost: 0.707025\n",
      "Epoch  900/2000 Cost: 0.690548\n",
      "Epoch 1000/2000 Cost: 0.674883\n",
      "Epoch 1100/2000 Cost: 0.659985\n",
      "Epoch 1200/2000 Cost: 0.645810\n",
      "Epoch 1300/2000 Cost: 0.632342\n",
      "Epoch 1400/2000 Cost: 0.619514\n",
      "Epoch 1500/2000 Cost: 0.607307\n",
      "Epoch 1600/2000 Cost: 0.595689\n",
      "Epoch 1700/2000 Cost: 0.584615\n",
      "Epoch 1800/2000 Cost: 0.574086\n",
      "Epoch 1900/2000 Cost: 0.564045\n",
      "Epoch 2000/2000 Cost: 0.554474\n"
     ]
    }
   ],
   "source": [
    "nb_epochs = 2000\n",
    "for epoch in range(nb_epochs+1):\n",
    "\n",
    "    prediction = model(x_train)\n",
    "\n",
    "    cost = F.mse_loss(prediction, y_train)\n",
    "\n",
    "    optimizer.zero_grad()\n",
    "    cost.backward()\n",
    "    optimizer.step()\n",
    "\n",
    "    if epoch % 100 == 0:\n",
    "        print('Epoch {:4d}/{} Cost: {:.6f}'.format(epoch, nb_epochs, cost.item()))"
   ]
  },
  {
   "cell_type": "markdown",
   "id": "1f7f1d40",
   "metadata": {},
   "source": [
    "### 미니 배치 & 배치 크기"
   ]
  },
  {
   "cell_type": "markdown",
   "id": "1dcbf7f4",
   "metadata": {},
   "source": [
    "#### 미니배치"
   ]
  },
  {
   "cell_type": "code",
   "execution_count": 55,
   "id": "e7db86ba",
   "metadata": {},
   "outputs": [],
   "source": [
    "# epoch는 전체 훈련 데이터가 한 번 사용된 주기\n",
    "# 배치는 전체 데이터를 배치 크기만큼 나누어 학습을 진행. 1 epoch에서 미니 배치 수만큼 학습을 진행한다.\n",
    "\n",
    "# 배치는 2배수를 활용한다. CPU/GPU의 메모리가 2배수이므로 효율이 더 좋다고 알려져 있기 때문."
   ]
  },
  {
   "cell_type": "markdown",
   "id": "6c192f57",
   "metadata": {},
   "source": [
    "#### 이터레이션"
   ]
  },
  {
   "cell_type": "code",
   "execution_count": 56,
   "id": "183f81ec",
   "metadata": {},
   "outputs": [],
   "source": [
    "# 1 epoch에서 학습이 진행된 횟수를 이터레이션이라고 한다.\n",
    "# = 미니 배치 수"
   ]
  },
  {
   "cell_type": "code",
   "execution_count": 57,
   "id": "04b44856",
   "metadata": {},
   "outputs": [],
   "source": [
    "import torch\n",
    "import torch.nn as nn\n",
    "import torch.nn.functional as F\n",
    "\n",
    "from torch.utils.data import TensorDataset # 텐서데이터셋\n",
    "from torch.utils.data import DataLoader # 데이터로더"
   ]
  },
  {
   "cell_type": "code",
   "execution_count": 58,
   "id": "27d4ce8c",
   "metadata": {},
   "outputs": [],
   "source": [
    "x_train  =  torch.FloatTensor([[73,  80,  75], \n",
    "                               [93,  88,  93], \n",
    "                               [89,  91,  90], \n",
    "                               [96,  98,  100],   \n",
    "                               [73,  66,  70]])  \n",
    "y_train  =  torch.FloatTensor([[152],  [185],  [180],  [196],  [142]])"
   ]
  },
  {
   "cell_type": "code",
   "execution_count": 59,
   "id": "53c57036",
   "metadata": {},
   "outputs": [],
   "source": [
    "dataset = TensorDataset(x_train, y_train)"
   ]
  },
  {
   "cell_type": "code",
   "execution_count": 60,
   "id": "db7c59ec",
   "metadata": {},
   "outputs": [],
   "source": [
    "dataloader = DataLoader(dataset, batch_size=2, shuffle=True) # shuffle은 한 epoch마다 데이터를 섞어준다."
   ]
  },
  {
   "cell_type": "code",
   "execution_count": 61,
   "id": "4f36a3e5",
   "metadata": {},
   "outputs": [],
   "source": [
    "model = nn.Linear(3,1)\n",
    "optimizer = torch.optim.SGD(model.parameters(), lr=1e-5) "
   ]
  },
  {
   "cell_type": "code",
   "execution_count": 62,
   "id": "221b70b2",
   "metadata": {},
   "outputs": [
    {
     "name": "stdout",
     "output_type": "stream",
     "text": [
      "Epoch    0/20 Batch 1/3 Cost: 32868.546875\n",
      "Epoch    0/20 Batch 2/3 Cost: 8253.976562\n",
      "Epoch    0/20 Batch 3/3 Cost: 3580.594238\n",
      "Epoch    1/20 Batch 1/3 Cost: 670.870789\n",
      "Epoch    1/20 Batch 2/3 Cost: 462.119263\n",
      "Epoch    1/20 Batch 3/3 Cost: 113.443825\n",
      "Epoch    2/20 Batch 1/3 Cost: 18.598494\n",
      "Epoch    2/20 Batch 2/3 Cost: 9.061541\n",
      "Epoch    2/20 Batch 3/3 Cost: 4.041673\n",
      "Epoch    3/20 Batch 1/3 Cost: 0.020788\n",
      "Epoch    3/20 Batch 2/3 Cost: 0.833903\n",
      "Epoch    3/20 Batch 3/3 Cost: 0.693444\n",
      "Epoch    4/20 Batch 1/3 Cost: 0.163755\n",
      "Epoch    4/20 Batch 2/3 Cost: 0.754121\n",
      "Epoch    4/20 Batch 3/3 Cost: 0.297472\n",
      "Epoch    5/20 Batch 1/3 Cost: 0.393005\n",
      "Epoch    5/20 Batch 2/3 Cost: 0.134999\n",
      "Epoch    5/20 Batch 3/3 Cost: 0.505432\n",
      "Epoch    6/20 Batch 1/3 Cost: 0.402871\n",
      "Epoch    6/20 Batch 2/3 Cost: 0.228513\n",
      "Epoch    6/20 Batch 3/3 Cost: 0.402366\n",
      "Epoch    7/20 Batch 1/3 Cost: 0.409400\n",
      "Epoch    7/20 Batch 2/3 Cost: 0.237290\n",
      "Epoch    7/20 Batch 3/3 Cost: 0.213745\n",
      "Epoch    8/20 Batch 1/3 Cost: 0.264171\n",
      "Epoch    8/20 Batch 2/3 Cost: 0.218568\n",
      "Epoch    8/20 Batch 3/3 Cost: 0.523424\n",
      "Epoch    9/20 Batch 1/3 Cost: 0.370756\n",
      "Epoch    9/20 Batch 2/3 Cost: 0.213059\n",
      "Epoch    9/20 Batch 3/3 Cost: 0.466341\n",
      "Epoch   10/20 Batch 1/3 Cost: 0.465336\n",
      "Epoch   10/20 Batch 2/3 Cost: 0.239000\n",
      "Epoch   10/20 Batch 3/3 Cost: 0.180848\n",
      "Epoch   11/20 Batch 1/3 Cost: 0.334500\n",
      "Epoch   11/20 Batch 2/3 Cost: 0.249663\n",
      "Epoch   11/20 Batch 3/3 Cost: 0.593212\n",
      "Epoch   12/20 Batch 1/3 Cost: 0.456462\n",
      "Epoch   12/20 Batch 2/3 Cost: 0.268657\n",
      "Epoch   12/20 Batch 3/3 Cost: 0.272710\n",
      "Epoch   13/20 Batch 1/3 Cost: 0.217249\n",
      "Epoch   13/20 Batch 2/3 Cost: 0.230086\n",
      "Epoch   13/20 Batch 3/3 Cost: 0.653330\n",
      "Epoch   14/20 Batch 1/3 Cost: 0.060121\n",
      "Epoch   14/20 Batch 2/3 Cost: 0.417600\n",
      "Epoch   14/20 Batch 3/3 Cost: 0.553904\n",
      "Epoch   15/20 Batch 1/3 Cost: 0.349259\n",
      "Epoch   15/20 Batch 2/3 Cost: 0.330656\n",
      "Epoch   15/20 Batch 3/3 Cost: 0.803739\n",
      "Epoch   16/20 Batch 1/3 Cost: 0.371288\n",
      "Epoch   16/20 Batch 2/3 Cost: 0.279162\n",
      "Epoch   16/20 Batch 3/3 Cost: 0.129282\n",
      "Epoch   17/20 Batch 1/3 Cost: 0.413137\n",
      "Epoch   17/20 Batch 2/3 Cost: 0.213797\n",
      "Epoch   17/20 Batch 3/3 Cost: 0.202017\n",
      "Epoch   18/20 Batch 1/3 Cost: 0.196119\n",
      "Epoch   18/20 Batch 2/3 Cost: 0.791899\n",
      "Epoch   18/20 Batch 3/3 Cost: 0.209422\n",
      "Epoch   19/20 Batch 1/3 Cost: 0.091373\n",
      "Epoch   19/20 Batch 2/3 Cost: 0.613133\n",
      "Epoch   19/20 Batch 3/3 Cost: 0.668988\n",
      "Epoch   20/20 Batch 1/3 Cost: 0.515697\n",
      "Epoch   20/20 Batch 2/3 Cost: 0.498143\n",
      "Epoch   20/20 Batch 3/3 Cost: 0.129458\n"
     ]
    }
   ],
   "source": [
    "nb_epochs = 20\n",
    "for epoch in range(nb_epochs + 1):\n",
    "    for batch_idx, samples in enumerate(dataloader):\n",
    "        x_train, y_train = samples\n",
    "\n",
    "        prediction = model(x_train)\n",
    "\n",
    "        cost = F.mse_loss(prediction, y_train)\n",
    "\n",
    "        optimizer.zero_grad()\n",
    "        cost.backward()\n",
    "        optimizer.step()\n",
    "\n",
    "        print('Epoch {:4d}/{} Batch {}/{} Cost: {:.6f}'.format(epoch, nb_epochs, batch_idx+1, len(dataloader), cost.item()))"
   ]
  },
  {
   "cell_type": "code",
   "execution_count": 63,
   "id": "c001c3f9",
   "metadata": {
    "scrolled": true
   },
   "outputs": [
    {
     "name": "stdout",
     "output_type": "stream",
     "text": [
      "훈련 후 입력이 73, 80, 75일 때의 예측값 : tensor([[151.5295]], grad_fn=<AddmmBackward0>)\n"
     ]
    }
   ],
   "source": [
    "new_var =  torch.FloatTensor([[73, 80, 75]])\n",
    "pred_y = model(new_var) \n",
    "print(\"훈련 후 입력이 73, 80, 75일 때의 예측값 :\", pred_y) "
   ]
  },
  {
   "cell_type": "markdown",
   "id": "9dd236e4",
   "metadata": {},
   "source": [
    "#### Custom Dataset"
   ]
  },
  {
   "cell_type": "code",
   "execution_count": 64,
   "id": "0eb85e45",
   "metadata": {},
   "outputs": [],
   "source": [
    "import torch\n",
    "import torch.nn.functional as F\n",
    "from torch.utils.data import Dataset\n",
    "from torch.utils.data import DataLoader"
   ]
  },
  {
   "cell_type": "code",
   "execution_count": 65,
   "id": "ff6638fc",
   "metadata": {},
   "outputs": [],
   "source": [
    "# Dataset 상속\n",
    "class CustomDataset(Dataset): \n",
    "    def __init__(self):\n",
    "        self.x_data = [[73, 80, 75],\n",
    "                       [93, 88, 93],\n",
    "                       [89, 91, 90],\n",
    "                       [96, 98, 100],\n",
    "                       [73, 66, 70]]\n",
    "        self.y_data = [[152], [185], [180], [196], [142]]\n",
    "\n",
    "    # 총 데이터의 개수를 리턴\n",
    "    def __len__(self): \n",
    "        return len(self.x_data)\n",
    "\n",
    "    # 인덱스를 입력받아 그에 맵핑되는 입출력 데이터를 파이토치의 Tensor 형태로 리턴\n",
    "    def __getitem__(self, idx): \n",
    "        x = torch.FloatTensor(self.x_data[idx])\n",
    "        y = torch.FloatTensor(self.y_data[idx])\n",
    "        return x, y"
   ]
  },
  {
   "cell_type": "code",
   "execution_count": 66,
   "id": "0cf95afa",
   "metadata": {},
   "outputs": [],
   "source": [
    "dataset = CustomDataset()\n",
    "dataloader = DataLoader(dataset, batch_size=2, shuffle=True)"
   ]
  },
  {
   "cell_type": "code",
   "execution_count": 67,
   "id": "7a0b72ae",
   "metadata": {},
   "outputs": [],
   "source": [
    "model = torch.nn.Linear(3,1)\n",
    "optimizer = torch.optim.SGD(model.parameters(), lr=1e-5) "
   ]
  },
  {
   "cell_type": "code",
   "execution_count": 68,
   "id": "cd7e4a01",
   "metadata": {},
   "outputs": [
    {
     "name": "stdout",
     "output_type": "stream",
     "text": [
      "Epoch    0/20 Batch 1/3 Cost: 10398.765625\n",
      "Epoch    0/20 Batch 2/3 Cost: 5092.103516\n",
      "Epoch    0/20 Batch 3/3 Cost: 836.946655\n",
      "Epoch    1/20 Batch 1/3 Cost: 357.680664\n",
      "Epoch    1/20 Batch 2/3 Cost: 133.807770\n",
      "Epoch    1/20 Batch 3/3 Cost: 40.606392\n",
      "Epoch    2/20 Batch 1/3 Cost: 7.806302\n",
      "Epoch    2/20 Batch 2/3 Cost: 8.140214\n",
      "Epoch    2/20 Batch 3/3 Cost: 0.375048\n",
      "Epoch    3/20 Batch 1/3 Cost: 0.153911\n",
      "Epoch    3/20 Batch 2/3 Cost: 2.094448\n",
      "Epoch    3/20 Batch 3/3 Cost: 0.087249\n",
      "Epoch    4/20 Batch 1/3 Cost: 0.076669\n",
      "Epoch    4/20 Batch 2/3 Cost: 0.003561\n",
      "Epoch    4/20 Batch 3/3 Cost: 3.377001\n",
      "Epoch    5/20 Batch 1/3 Cost: 1.243739\n",
      "Epoch    5/20 Batch 2/3 Cost: 0.529664\n",
      "Epoch    5/20 Batch 3/3 Cost: 0.164940\n",
      "Epoch    6/20 Batch 1/3 Cost: 1.458122\n",
      "Epoch    6/20 Batch 2/3 Cost: 0.193437\n",
      "Epoch    6/20 Batch 3/3 Cost: 0.085822\n",
      "Epoch    7/20 Batch 1/3 Cost: 0.056428\n",
      "Epoch    7/20 Batch 2/3 Cost: 1.665085\n",
      "Epoch    7/20 Batch 3/3 Cost: 0.174672\n",
      "Epoch    8/20 Batch 1/3 Cost: 1.514408\n",
      "Epoch    8/20 Batch 2/3 Cost: 0.199266\n",
      "Epoch    8/20 Batch 3/3 Cost: 0.022334\n",
      "Epoch    9/20 Batch 1/3 Cost: 0.020818\n",
      "Epoch    9/20 Batch 2/3 Cost: 1.606041\n",
      "Epoch    9/20 Batch 3/3 Cost: 0.156752\n",
      "Epoch   10/20 Batch 1/3 Cost: 0.045744\n",
      "Epoch   10/20 Batch 2/3 Cost: 1.562325\n",
      "Epoch   10/20 Batch 3/3 Cost: 0.168616\n",
      "Epoch   11/20 Batch 1/3 Cost: 0.055816\n",
      "Epoch   11/20 Batch 2/3 Cost: 0.077419\n",
      "Epoch   11/20 Batch 3/3 Cost: 3.365738\n",
      "Epoch   12/20 Batch 1/3 Cost: 0.755967\n",
      "Epoch   12/20 Batch 2/3 Cost: 0.128514\n",
      "Epoch   12/20 Batch 3/3 Cost: 2.884130\n",
      "Epoch   13/20 Batch 1/3 Cost: 0.927197\n",
      "Epoch   13/20 Batch 2/3 Cost: 1.007829\n",
      "Epoch   13/20 Batch 3/3 Cost: 0.228233\n",
      "Epoch   14/20 Batch 1/3 Cost: 0.094195\n",
      "Epoch   14/20 Batch 2/3 Cost: 0.016046\n",
      "Epoch   14/20 Batch 3/3 Cost: 3.347120\n",
      "Epoch   15/20 Batch 1/3 Cost: 0.844826\n",
      "Epoch   15/20 Batch 2/3 Cost: 1.288095\n",
      "Epoch   15/20 Batch 3/3 Cost: 0.291510\n",
      "Epoch   16/20 Batch 1/3 Cost: 1.343570\n",
      "Epoch   16/20 Batch 2/3 Cost: 0.256593\n",
      "Epoch   16/20 Batch 3/3 Cost: 0.098440\n",
      "Epoch   17/20 Batch 1/3 Cost: 0.028146\n",
      "Epoch   17/20 Batch 2/3 Cost: 1.549942\n",
      "Epoch   17/20 Batch 3/3 Cost: 0.428144\n",
      "Epoch   18/20 Batch 1/3 Cost: 1.566494\n",
      "Epoch   18/20 Batch 2/3 Cost: 0.210089\n",
      "Epoch   18/20 Batch 3/3 Cost: 0.205862\n",
      "Epoch   19/20 Batch 1/3 Cost: 1.684592\n",
      "Epoch   19/20 Batch 2/3 Cost: 0.251069\n",
      "Epoch   19/20 Batch 3/3 Cost: 0.004400\n",
      "Epoch   20/20 Batch 1/3 Cost: 0.026039\n",
      "Epoch   20/20 Batch 2/3 Cost: 0.028224\n",
      "Epoch   20/20 Batch 3/3 Cost: 3.411353\n"
     ]
    }
   ],
   "source": [
    "nb_epochs = 20\n",
    "for epoch in range(nb_epochs + 1):\n",
    "    for batch_idx, samples in enumerate(dataloader):\n",
    "\n",
    "        x_train, y_train = samples\n",
    "\n",
    "        prediction = model(x_train)\n",
    "\n",
    "        cost = F.mse_loss(prediction, y_train)\n",
    "\n",
    "        optimizer.zero_grad()\n",
    "        cost.backward()\n",
    "        optimizer.step()\n",
    "\n",
    "        print('Epoch {:4d}/{} Batch {}/{} Cost: {:.6f}'.format(epoch, nb_epochs, batch_idx+1, len(dataloader), cost.item()))"
   ]
  },
  {
   "cell_type": "code",
   "execution_count": 69,
   "id": "f6f018ff",
   "metadata": {},
   "outputs": [
    {
     "name": "stdout",
     "output_type": "stream",
     "text": [
      "훈련 후 입력이 73, 80, 75일 때의 예측값 : tensor([[150.7941]], grad_fn=<AddmmBackward0>)\n"
     ]
    }
   ],
   "source": [
    "new_var =  torch.FloatTensor([[73, 80, 75]]) \n",
    "pred_y = model(new_var) \n",
    "print(\"훈련 후 입력이 73, 80, 75일 때의 예측값 :\", pred_y) "
   ]
  }
 ],
 "metadata": {
  "kernelspec": {
   "display_name": "Python 3 (ipykernel)",
   "language": "python",
   "name": "python3"
  },
  "language_info": {
   "codemirror_mode": {
    "name": "ipython",
    "version": 3
   },
   "file_extension": ".py",
   "mimetype": "text/x-python",
   "name": "python",
   "nbconvert_exporter": "python",
   "pygments_lexer": "ipython3",
   "version": "3.9.12"
  }
 },
 "nbformat": 4,
 "nbformat_minor": 5
}
